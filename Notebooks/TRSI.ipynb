{
 "cells": [
  {
   "cell_type": "markdown",
   "metadata": {},
   "source": [
    "# Automated NN Tuning"
   ]
  },
  {
   "cell_type": "markdown",
   "metadata": {},
   "source": [
    "## Cerinta"
   ]
  },
  {
   "cell_type": "markdown",
   "metadata": {},
   "source": [
    "Se dă o problema de clasificare rezolvabilă prin Machine Learning. Să se gaseasca o rețea neuronală optima pentru problema dată. Optim se poate referi fie la scalabilitate in termeni de performanță, fie la precizia clasificarilor."
   ]
  },
  {
   "cell_type": "markdown",
   "metadata": {},
   "source": [
    "## Abordare"
   ]
  },
  {
   "cell_type": "markdown",
   "metadata": {},
   "source": [
    "In realitate, o abordare a problemei poate fi prin incercari repetate. O alta abordare poate fi prin cautarea de lucrari academice care incearca sa rezolve probleme similare cu ale noastre.\n",
    "\n",
    "Spațiul de cautare a unei rețele neuronale optime este imens, de aceea un algoritm brute-force nu ar fi potrivit sau fezabil in cazul acesta.\n",
    "Solutia noastra propune automatizarea acestui proces, folosind algoritmi de inteligență artificiala precum Algoritmii Evolutivi."
   ]
  },
  {
   "cell_type": "markdown",
   "metadata": {},
   "source": [
    "## Implementare"
   ]
  },
  {
   "cell_type": "markdown",
   "metadata": {},
   "source": [
    "In implementarea algoritmului, s-au folosit mai multe iterații, in care se testa algoritmul, se observau unele metrici și se luau decizii ulterioare de implementare.\n",
    "\n",
    "În găsirea rețelei optime, algoritmul curent consideră hiperparametrii:\n",
    "* Numarul de straturi\n",
    "* Marimea unui strat\n",
    "\n",
    "Pentru rețele neuronale s-a folosit Keras cu back-end Tensor Flow. In implementarea codului s-au folosit clase care impacheteaza comportamentul din Keras și a căror utilitate este de a furniza API pentru lucrul cu algoritmii evolutivi.<br/>\n",
    "La bază algoritmii evolutivi folosiți sunt stocastici.\n",
    "\n",
    "In implementarea inițială avem functia de selectie naturala, care primeste lista indivizilor sortata descrescator dupa fitness. \n",
    "Se iau oricare 2 indivizi cu indicele i si j, si se calculeaza sansa lor de a se reproduce, astfel:\n",
    "\n"
   ]
  },
  {
   "cell_type": "markdown",
   "metadata": {},
   "source": [
    "$$\\frac{i \\cdot j}{{(n - 1)}^{2}}$$"
   ]
  },
  {
   "cell_type": "markdown",
   "metadata": {},
   "source": [
    "S-a implementat si o selecție pentru deces, ce ia in considerare o șansă calculată proporțional cu fitness-ul individului, precum și vârsta individului (exprimata in număr de generații).\n",
    "Pentru in individ i, șansa acestuia de a deceda este calculata astfel:"
   ]
  },
  {
   "cell_type": "markdown",
   "metadata": {},
   "source": [
    "$$\\frac{a \\cdot (1 - i / n)}{E}$$\n",
    "\n",
    "Unde E = speranța de viață și n = numărul total de indivizi"
   ]
  },
  {
   "cell_type": "markdown",
   "metadata": {},
   "source": [
    "## Arhitectura cod\n",
    "\n",
    "![title](gfx/BachelorThesis.svg)"
   ]
  },
  {
   "cell_type": "markdown",
   "metadata": {},
   "source": [
    "# Metrici și testare\n",
    "\n",
    "In testarea algoritmului s-a folosit problema clasică de recunoaștere a caracterelor, cu baza de date MNIST.\n",
    "Indivizii inițiali au fost dați ca și input."
   ]
  },
  {
   "cell_type": "markdown",
   "metadata": {},
   "source": [
    "## Iteratia 1\n",
    "\n",
    "### Parametrii\n",
    "Sperață de viață: 3\n",
    "\n",
    "### Încrucișare\n",
    "Incrucișarea rețelelor s-a facut prin combinarea straturilor. \n",
    "\n",
    "In cazul in care o rețea are mai multe straturi ca cealaltă, se face un sampling aleatoriu pe rețeaua cu mai multe straturi, se aleg straturile pentru incrucișare si se incrucișeaza straturile alese cu straturile rețelei mai mici ca număr de straturi. Lucrul negativ aici este că un genele unui individ pot fi dominante, in timp ce genele celuilalt individ pot fi nule în individul rezultat.\n",
    "\n",
    "### Fitness\n",
    "\n",
    "Calculul fitness-ului se bazeaza exclusiv pe precizia rețelei neuronale.\n",
    "\n",
    "### Metrici\n",
    "* Fitness trend\n",
    "<hr/>\n",
    "![title](gfx/fitness-trend-tne-1.png)\n",
    "* Generation size\n",
    "<hr/>\n",
    "![title](gfx/generation-size-tne-1.png)"
   ]
  },
  {
   "cell_type": "markdown",
   "metadata": {},
   "source": [
    "## Iteratia 2\n",
    "\n",
    "### Parametrii\n",
    "Sperață de viață: 1.3\n",
    "\n",
    "### Încrucișare\n",
    "Neschimbat.\n",
    "\n",
    "### Fitness\n",
    "Neschimbat.\n",
    "\n",
    "### Metrici\n",
    "\n",
    "* Fitness trend\n",
    "<hr/>\n",
    "![title](gfx/fitness-trend-tne-2.png)\n",
    "* Generation size\n",
    "<hr/>\n",
    "![title](gfx/generation-size-tne-2.png)"
   ]
  },
  {
   "cell_type": "markdown",
   "metadata": {},
   "source": [
    "## Observatii\n",
    "\n",
    "După cum putem observa din primele 2 iterații, partea slabă a algoritmului este că populația crește foarte repede iar indivizii ajung să fie omogeni. \n",
    "\n",
    "Acest lucru nu scalează deloc, deoarece pentru a găsi o soluție bună la problema noastră trebuie antrenate un număr cât mai mare de generații, aproximativ 10. Pentru a antrena 4 generații, algorimul a rulat un timp de ~12 ore, și așa cum se poate observa din metricul de Generation Size, acest lucru nu poate scala. Pentru a incrucișa indivizii generației 4, va dura extrem de mult.\n",
    "\n",
    "De asemenea observăm că fitness-ul mediu calculat converge, ceea ce inseamnă că indivizii se omogenizeaza, un fapt negativ ce evidențiază lipsa diversității din populație.\n",
    "Fitness-ul maxim se observa cum crește, insă nu suficient de semnificativ pentru a putea justifica folosirea unui astfel de algoritm pentru gasirea soluției. S-ar putea obține o creștere semnificativa a fitness-ului maxim in cazul in care reușim să antrenam un număr mai mare de generații.\n",
    "\n",
    "Funcția de incrucișare poate fi imbunătățită, se pot considera toate genele indivizilor, fără dominanță prea mare din partea unui individ.<br/>\n",
    "Se pot considera mai multi hiperparametrii in gasirea rețelei optime.\n",
    "\n",
    "Funcția de fitness poate lua in calcul și performanța sa in timp.\n",
    "\n",
    "Pentru următoarele iterații se va folosi Tournament Selection pentru selectie, ceea ce promite un număr controlabil de indivizi și mai multe generații de antrenat, de asemeneas se vor testa pe alte probleme poate mai complexe din punctul acesta de vedere.\n",
    "\n",
    "Sample the training and test data (k-fold)"
   ]
  },
  {
   "cell_type": "code",
   "execution_count": null,
   "metadata": {},
   "outputs": [],
   "source": []
  }
 ],
 "metadata": {
  "kernelspec": {
   "display_name": "Python 3",
   "language": "python",
   "name": "python3"
  },
  "language_info": {
   "codemirror_mode": {
    "name": "ipython",
    "version": 3
   },
   "file_extension": ".py",
   "mimetype": "text/x-python",
   "name": "python",
   "nbconvert_exporter": "python",
   "pygments_lexer": "ipython3",
   "version": "3.6.3"
  }
 },
 "nbformat": 4,
 "nbformat_minor": 2
}

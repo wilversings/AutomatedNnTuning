{
 "cells": [
  {
   "cell_type": "markdown",
   "metadata": {},
   "source": [
    "# Automated NN Tuning\n",
    "\n",
    "**Autor: **Aiordăchioaei Marius\t| **Îndrumător: **Suciu Mihai"
   ]
  },
  {
   "cell_type": "markdown",
   "metadata": {},
   "source": [
    "# Bibliografie\n",
    "\n",
    "* [Let’s evolve a neural network with a genetic algorithm](https://blog.coast.ai/lets-evolve-a-neural-network-with-a-genetic-algorithm-code-included-8809bece164)\n",
    "\n",
    "* [Using neural nets to recognize handwritten digits](http://neuralnetworksanddeeplearning.com/chap1.html)\n",
    "\n",
    "* [What is an Evolutionary Algorithm](https://www.cs.vu.nl/~gusz/ecbook/Eiben-Smith-Intro2EC-Ch2.pdf)"
   ]
  },
  {
   "cell_type": "markdown",
   "metadata": {},
   "source": [
    "# Table of contents\n",
    "\n",
    "1. Intro\n",
    "\n",
    "    1. Abstract\n",
    "\n",
    "    2. Motivation\n",
    "\n",
    "2. Core concepts\n",
    "\n",
    "    3. Genetic Programming\n",
    "\n",
    "    4. Artificial Neural Networks\n",
    "\n",
    "    5. Convolutional Neural Networks\n",
    "\n",
    "    6. Integration\n",
    "\n",
    "    7. Classical Problems\n",
    "\n",
    "3. Aplicability\n",
    "\n",
    "    8. Algorithm Overview\n",
    "\n",
    "    9. Web Interface\n",
    "\n",
    "    10. Software Design\n",
    "\n",
    "4. Feasability and Impact Analysis\n",
    "\n",
    "    11. Performance indicators\n",
    "\n",
    "    12. Efficiency indicators\n",
    "\n",
    "    13. Digit recognition\n",
    "\n",
    "    14. Sentiment analysis\n"
   ]
  },
  {
   "cell_type": "markdown",
   "metadata": {},
   "source": [
    "# 1. Intro"
   ]
  },
  {
   "cell_type": "markdown",
   "metadata": {},
   "source": [
    "## A. Abstract\n",
    "\n",
    "With the Artificial Neural Networks becoming more and more popular and used across all domains, a common problem with designing an eficient one is the tuning of the so-called \"Hyperparameters\". \n",
    "\n",
    "An empirical aproach that addresses this problem is through manual trial and error. This aproach is (most of the time) inefficient and over the hand in almost all the possible ways.\n",
    "Another aproach is doing R&D (Research and Development) on other scientifical publications and finding problems simmilar to ours' that have been solved.\n",
    "\n",
    "The aim of this paper is to demonstrate the feasibility of using a third aproach, automating the process of tweaking the parameters using methods such as Evolutionary Algorithms to find the right Neural Network, fit for a specific domain problem.\n",
    "\n",
    "The process of finding the right Evolutionary Algorithm was all trial and error, with each step documented. Based on some ad-hoc metrics, the algorithm could be brought to a state in which is better for the specific task that are performing.\n",
    "\n",
    "### Keywords: \n",
    "Evolutionary algorithm, genetic algorithm, genetic programming, artificial neural network, hyperparameter, brute-force, fitness, natural selection"
   ]
  },
  {
   "cell_type": "markdown",
   "metadata": {},
   "source": [
    "## B. Motivation"
   ]
  },
  {
   "cell_type": "markdown",
   "metadata": {},
   "source": [
    "This concept is nothing new. It was researched before and proved to be efficient, and the idea of automating a trial-and-error job can cross anyone's mind at some point.\n",
    "\n",
    "The work will foscus more on the Evolutionary part rather than on the Neural Network part.<br>\n",
    "It will also contain a detailed feasibility study of the found solution and testing it with some classical Machine Learning problems"
   ]
  },
  {
   "cell_type": "markdown",
   "metadata": {},
   "source": [
    "# 2. Core concepts"
   ]
  },
  {
   "cell_type": "markdown",
   "metadata": {},
   "source": [
    "## A. Genetic programming\n",
    "\n",
    "Genetic programming and Evolutionary Algorithms reffer to a technique of solving problems which solutions are in a wide space of possible solutions. Imagine a solution space which grows exponentially-proportional with the size of the input data. Classical deterministic algorithms will solve this kinds of problems, but the issue is that their time complexity is <b>exponetial</b>. So for large input sizes, it will not scale (in terms of time efficiency) on classical semiconductor machines."
   ]
  },
  {
   "cell_type": "markdown",
   "metadata": {},
   "source": [
    "## B. Artificial Neural Networks"
   ]
  },
  {
   "cell_type": "markdown",
   "metadata": {},
   "source": [
    "## C. Convolutional Neural Networks"
   ]
  },
  {
   "cell_type": "markdown",
   "metadata": {},
   "source": [
    "## D. Integration"
   ]
  },
  {
   "cell_type": "markdown",
   "metadata": {},
   "source": [
    "## E. Classical Problems"
   ]
  },
  {
   "cell_type": "markdown",
   "metadata": {},
   "source": [
    "# 3. Aplicability"
   ]
  },
  {
   "cell_type": "markdown",
   "metadata": {},
   "source": [
    "# 4. Feasability and Impact Analysis"
   ]
  },
  {
   "cell_type": "code",
   "execution_count": null,
   "metadata": {},
   "outputs": [],
   "source": []
  }
 ],
 "metadata": {
  "kernelspec": {
   "display_name": "Python 3",
   "language": "python",
   "name": "python3"
  },
  "language_info": {
   "codemirror_mode": {
    "name": "ipython",
    "version": 3
   },
   "file_extension": ".py",
   "mimetype": "text/x-python",
   "name": "python",
   "nbconvert_exporter": "python",
   "pygments_lexer": "ipython3",
   "version": "3.6.3"
  }
 },
 "nbformat": 4,
 "nbformat_minor": 2
}

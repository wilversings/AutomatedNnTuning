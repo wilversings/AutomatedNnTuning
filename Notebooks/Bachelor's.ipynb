{
 "cells": [
  {
   "cell_type": "markdown",
   "metadata": {},
   "source": [
    "# Automated NN Tuning\n",
    "\n",
    "**Autor: **Aiordăchioaei Marius\t| **Îndrumător: **Suciu Mihai"
   ]
  },
  {
   "cell_type": "markdown",
   "metadata": {},
   "source": [
    "# Bibliografie\n",
    "\n",
    "[1] [Let’s evolve a neural network with a genetic algorithm](https://blog.coast.ai/lets-evolve-a-neural-network-with-a-genetic-algorithm-code-included-8809bece164)\n",
    "\n",
    "[2] [Using neural nets to recognize handwritten digits](http://neuralnetworksanddeeplearning.com/chap1.html)\n",
    "\n",
    "[3] [What is an Evolutionary Algorithm](https://www.cs.vu.nl/~gusz/ecbook/Eiben-Smith-Intro2EC-Ch2.pdf)\n",
    "\n",
    "[4] [Computational complexity](https://en.wikipedia.org/wiki/Computational_complexity)"
   ]
  },
  {
   "cell_type": "markdown",
   "metadata": {},
   "source": [
    "# Table of contents\n",
    "\n",
    "1. Intro\n",
    "\n",
    "    1. Abstract\n",
    "\n",
    "    2. Motivation\n",
    "\n",
    "2. Core concepts\n",
    "\n",
    "    3. Genetic Programming\n",
    "\n",
    "    4. Artificial Neural Networks\n",
    "\n",
    "    5. Convolutional Neural Networks\n",
    "\n",
    "    6. Integration\n",
    "\n",
    "    7. Classical Problems\n",
    "\n",
    "3. Aplicability\n",
    "\n",
    "    8. Algorithm Overview\n",
    "\n",
    "    9. Web Interface\n",
    "\n",
    "    10. Software Design\n",
    "\n",
    "4. Feasability and Impact Analysis\n",
    "\n",
    "    11. Performance indicators\n",
    "\n",
    "    12. Efficiency indicators\n",
    "\n",
    "    13. Digit recognition\n",
    "\n",
    "    14. Sentiment analysis\n"
   ]
  },
  {
   "cell_type": "markdown",
   "metadata": {},
   "source": [
    "# 1. Intro"
   ]
  },
  {
   "cell_type": "markdown",
   "metadata": {},
   "source": [
    "## A. Abstract\n",
    "\n",
    "With the Artificial Neural Networks becoming more and more popular and used across all domains, a common problem with designing an eficient one is the tuning of the so-called \"Hyperparameters\". \n",
    "\n",
    "An empirical aproach that addresses this problem is through manual trial and error. This aproach is (most of the time) inefficient and over the hand in almost all the possible ways.\n",
    "Another aproach is doing R&D (Research and Development) on other scientifical publications and finding problems simmilar to ours' that have been solved.\n",
    "\n",
    "The aim of this paper is to demonstrate the feasibility of using a third aproach, automating the process of tweaking the parameters using methods such as Evolutionary Algorithms to find the right Neural Network, fit for a specific domain problem.\n",
    "\n",
    "The process of finding the right Evolutionary Algorithm was all trial and error, with each step documented. Based on some ad-hoc metrics, the algorithm could be brought to a state in which is better for the specific task that are performing.\n",
    "\n",
    "### Keywords: \n",
    "Evolutionary algorithm, genetic algorithm, genetic programming, artificial neural network, hyperparameter, brute-force, fitness, natural selection"
   ]
  },
  {
   "cell_type": "markdown",
   "metadata": {},
   "source": [
    "## B. Motivation"
   ]
  },
  {
   "cell_type": "markdown",
   "metadata": {},
   "source": [
    "This concept is nothing new. It was researched before and proved to be efficient, and the idea of automating a trial-and-error job can cross anyone's mind at some point.\n",
    "\n",
    "The work will foscus more on the Evolutionary part rather than on the Neural Network part.<br>\n",
    "It will also contain a detailed feasibility study of the found solution and testing it with some classical Machine Learning problems"
   ]
  },
  {
   "cell_type": "markdown",
   "metadata": {},
   "source": [
    "# 2. Core concepts\n",
    "\n",
    "In the following lines we are going to explain the two concepts/techniques used in our case study, as well as the integration between the two"
   ]
  },
  {
   "cell_type": "markdown",
   "metadata": {},
   "source": [
    "## A. Genetic programming\n",
    "<hr/>\n",
    "Genetic programming and Evolutionary Algorithms reffer to a technique of solving problems which solutions are in a wide space of possible solutions. Imagine a solution space which grows exponentially-proportional with the size of the input data.\n",
    "\n",
    "[4] Classical deterministic algorithms are a possible solution to this. Any deterministic algorithm is presumed to do the transition between the current state and the following one in a predictible (or deterministic) manner.<br/>\n",
    "Deterministic algorithms will solve this kinds of problems, but the issue is that their time complexity is unreasonably high, or even <b>exponetialy</b>. So for large input sizes, these sort of algorithms will not scale (in terms of time or space efficiency) on conventional semiconductor machines.\n",
    "\n",
    "For solving our problem, we will focus on intelligent algorhitms.\n",
    "\n",
    "Genetic programming is a method of finding solution inspired from nature, more exactly from the real evolution. <br/>\n",
    "[3] The basic idea of having individuals in population that can mix their genes and get evaluated based on certain characteristics, seems like a good solution for our problem. The brain itself was created in the same manner.<br/>\n",
    "\n",
    "The very general picture of the concept is expressed in the following pseudo-code:"
   ]
  },
  {
   "cell_type": "markdown",
   "metadata": {},
   "source": [
    "<code>Begin\n",
    "    Initialize population with random individuals\n",
    "    Evaluate each individual from the initial population\n",
    "    While ( Certain stop condition )\n",
    "        Select and crossover parents;\n",
    "        Mutate the resulting sons;\n",
    "        Evaluate the new individuals;\n",
    "        Select survivors\n",
    "    End_While\n",
    "End\n",
    "</code>"
   ]
  },
  {
   "cell_type": "markdown",
   "metadata": {},
   "source": [
    "A very important characteristic to some of the above-mentioned operations (natural selection, mutation) is that they are <b>stochastic</b> which means that in their way of determining the result, they make choices based on randomness or chance. So we know for sure that EAs don't fall under the deterministic algorithm category.\n",
    "\n",
    "In our case study, the individuals are considered to be the Neural Networks that we are trying to evolve."
   ]
  },
  {
   "cell_type": "markdown",
   "metadata": {},
   "source": [
    "### [3] Components of Evolutionary Algorithms\n",
    "\n",
    " In the following line we are going to describe the basic components which make up an EA.\n",
    "\n",
    "* Representation (how the individuals are encoded in our algorithm)\n",
    "* Fitness measurement method\n",
    "* Population\n",
    "* Parent selection strategy\n",
    "* Crossover \n",
    "* Mutation\n",
    "* Replacement mechanism\n",
    "\n",
    "#### Representation\n",
    "Usually the first step in implementing our EA is choosing a representation. We need to map or translate the objects in the real world space to our defined solution space. The terminology for the objects in the real world space is <b>phenotypes</b> and the one for the objects in our solution space (EA space) is <b>genotypes</b>.\n",
    "\n",
    "As an example, consider the following problem: Given an undirected graph, find the path with the most nodes. This problem is part of the NP-Complete problem class (which we are not going to prove now). The individual in our EA is the path (a sequence of linked nodes). The phenotype is the path itself. One genotype can be a binary number which has 1 on pozition j for j node is in sequence, 0 otherwise (even though this genotype doens't conside the order of the nodes, but this might not be a concern in our algorithm). Another genotype can be a simple list of ordered nodes.\n",
    "#### Fitness\n",
    "The role of the fitness function is to objectively measure how close is one individual to the desired solution. Based on this metric we can decide if one individual is fit enough to continue in our population or is not fit enought and needs to be replaced by better individuals (natural selection)\n",
    "#### Population\n",
    "The population is the set of individuals at some point (any point) in our EA. It can be seen as a set of genotypes of many generations. The genotypes themselfs is not evloving in any way, but the population is, through the creation of the new and more fit genotypes.\n",
    "\n",
    "An important metric here is the diversity of the population which measures how many different solution we have. \n",
    "To maintain diversity we need to give weaker genotypes a chance to reporoduce, because they might have valuable genetic material which combined with the right counterparty, might give us a fit individual. A population which is not diverse, tends to converge with the best fitness and might never give us a fit enough individual. Elitism in a EA (often chosing the best) can damage the diversity. This is the equivalent of a greedy algorithm which at each given step, it chooses only the local optimum.\n",
    "#### Parent selection\n",
    "The parent selection mechanism is the rule by which we allow individuals to bring offsprings into the population by combining their genes (becoming parents). In this part we get to choose parents, mosty based on their quality (fitness) but also based on some stochastic elements.\n",
    "\n",
    "The reason that we are introducing stochastic elements here, is that we want to avoid a homogenous population by giving the unfit individuals the chance to become parents so we can improve the diversity discuseed above.\n",
    "\n",
    "#### Crossover\n",
    "The crossover operation has two genotypes as input and one or two offspring(s) as an output. By mergeing the genes of the input individuals, we are able to create the offspring which inherits traits from the parents and probabilistically has a higher fitness.\n",
    "\n",
    "In the designing of our EA, it is crucial to choose a good crossover mechanism.\n",
    "#### Mutation\n",
    "Mutation naturally happenes in the real world. But in EAs are a method of keeping the population diverse. When is born through crossover, the genotype has a pre-defined chance to become mutated. It means that the features inherited from the parents are slightly changed.\n",
    "#### Replacement\n",
    "Replacement distinguishes individual based on their fitness and age (with stochastic influences). It is used to eliminate the individuals that haven't proved themselfs to have any value to the evolution process, or just the genotypes that are unfortunately chosen by the stochastic elements (which translates into environmental hazard).\n",
    "This is mostly one in the same step as the Parent selection part, when the individuals that are not selected for reproduction, are disposed from the populaiton."
   ]
  },
  {
   "cell_type": "markdown",
   "metadata": {},
   "source": [
    "## B. Artificial Neural Networks\n",
    "<hr/>\n"
   ]
  },
  {
   "cell_type": "markdown",
   "metadata": {},
   "source": [
    "## D. Integration"
   ]
  },
  {
   "cell_type": "markdown",
   "metadata": {},
   "source": [
    "## E. Classical Problems"
   ]
  },
  {
   "cell_type": "markdown",
   "metadata": {},
   "source": [
    "# 3. Aplicability"
   ]
  },
  {
   "cell_type": "markdown",
   "metadata": {},
   "source": [
    "# 4. Feasability and Impact Analysis\n",
    "</hr>\n",
    "In implementarea algoritmului, s-au folosit mai multe iterații, in care se testa algoritmul, se observau unele metrici și se luau decizii ulterioare de implementare.\n",
    "\n",
    "În găsirea rețelei optime, algoritmul curent consideră hiperparametrii:\n",
    "\n",
    "Numarul de straturi\n",
    "Marimea unui strat\n",
    "Pentru rețele neuronale s-a folosit Keras cu back-end Tensor Flow. In implementarea codului s-au folosit clase care impacheteaza comportamentul din Keras și a căror utilitate este de a furniza API pentru lucrul cu algoritmii evolutivi.\n",
    "La bază algoritmii evolutivi folosiți sunt stocastici.\n",
    "\n",
    "In implementarea inițială avem functia de selectie naturala, care primeste lista indivizilor sortata descrescator dupa fitness. Se iau oricare 2 indivizi cu indicele i si j, si se calculeaza sansa lor de a se reproduce, astfel:"
   ]
  },
  {
   "cell_type": "markdown",
   "metadata": {},
   "source": [
    "$$\\frac{i \\cdot j}{{(n - 1)}^{2}}$$"
   ]
  },
  {
   "cell_type": "markdown",
   "metadata": {},
   "source": [
    "S-a implementat si o selecție pentru deces, ce ia in considerare o șansă calculată proporțional cu fitness-ul individului, precum și vârsta individului (exprimata in număr de generații).\n",
    "Pentru in individ i, șansa acestuia de a deceda este calculata astfel:"
   ]
  },
  {
   "cell_type": "markdown",
   "metadata": {},
   "source": [
    "$$\\frac{a \\cdot (1 - i / n)}{E}$$\n",
    "\n",
    "Unde E = speranța de viață și n = numărul total de indivizi"
   ]
  },
  {
   "cell_type": "markdown",
   "metadata": {},
   "source": [
    "# Metrics and testing\n",
    "\n",
    "In testarea algoritmului s-a folosit problema clasică de recunoaștere a caracterelor, cu baza de date MNIST.\n",
    "Indivizii inițiali au fost dați ca și input."
   ]
  },
  {
   "cell_type": "markdown",
   "metadata": {},
   "source": [
    "## Iteratia 1\n",
    "\n",
    "### Parametrii\n",
    "Life expectancy: 3\n",
    "\n",
    "### Încrucișare\n",
    "Incrucișarea rețelelor s-a facut prin combinarea straturilor. \n",
    "\n",
    "In cazul in care o rețea are mai multe straturi ca cealaltă, se face un sampling aleatoriu pe rețeaua cu mai multe straturi, se aleg straturile pentru incrucișare si se incrucișeaza straturile alese cu straturile rețelei mai mici ca număr de straturi. Lucrul negativ aici este că un genele unui individ pot fi dominante, in timp ce genele celuilalt individ pot fi nule în individul rezultat.\n",
    "\n",
    "### Fitness\n",
    "\n",
    "Calculul fitness-ului se bazeaza exclusiv pe precizia rețelei neuronale.\n",
    "\n",
    "### Metrici\n",
    "* Fitness trend\n",
    "<hr/>\n",
    "![title](gfx/fitness-trend-tne-1.png)\n",
    "* Generation size\n",
    "<hr/>\n",
    "![title](gfx/generation-size-tne-1.png)"
   ]
  },
  {
   "cell_type": "markdown",
   "metadata": {},
   "source": [
    "## Iteration 2\n",
    "\n",
    "### Parametrii\n",
    "Life expectancy: 1.3\n",
    "\n",
    "### Încrucișare\n",
    "Unchanged.\n",
    "\n",
    "### Fitness\n",
    "Unchanged.\n",
    "\n",
    "### Metrici\n",
    "\n",
    "* Fitness trend\n",
    "\n",
    "We are now measuring also the maximum fitness of the population\n",
    "<hr/>\n",
    "![title](gfx/fitness-trend-tne-2.png)\n",
    "* Generation size\n",
    "<hr/>\n",
    "![title](gfx/generation-size-tne-2.png)"
   ]
  },
  {
   "cell_type": "markdown",
   "metadata": {},
   "source": [
    "## Observations\n",
    "\n",
    "The main observations made throughout the first two iterations focuses on weak points of the algorithm:\n",
    "\n",
    "* One strong weakness is that the populaiton grows quickly.\n",
    "\n",
    "\n",
    "* This simply doesn't scale, because finding a good solution ot our problem, we need to grow a certain amount of generations, approximately 10. To grow 4 generations, the program ran for about ~12 hours. The conclusion drew by Generation Size metric, this approach doesn't scale. To perform a crossover between the genotypes of the generation 4 would take an unreasonably huge amount of time.\n",
    "\n",
    "\n",
    "* Another observations here is that the average fitness converges to a value. This means that the genotypes become homogenous. There is not enough new genetical material and this will not help us raise the maximum fitness either.\n",
    "\n",
    "\n",
    "* We can see how the maximum fitness increases, but not signtificanlty enough to justify the need of such algorithms to find a better solution. A significant fitness increase would be achieved by growing a larger number of generations.\n",
    "\n",
    "\n",
    "* The crossover function can be also improved. When performing crossover, we can consider all the genes of the individuals, without too much domination from one party.\n",
    "\n",
    "\n",
    "* We can consider other hyperparameters in finding the optimal solution, like initial weights and biases.\n",
    "\n",
    "\n",
    "* The fitness function can also consider the physical running time as a quality of a genotype.\n",
    "\n",
    "\n",
    "* For the following iterations, we will use Tournament Selection for selections. This should give us a controllable number of genotypes and more generations to grow.\n",
    "\n",
    "\n",
    "* We can consider trying the same test but for other problems (which can also be more complex) and other trainig data sets.\n",
    "\n",
    "\n",
    "* The input and the train data can be randomly sampled (k-fold)"
   ]
  },
  {
   "cell_type": "code",
   "execution_count": null,
   "metadata": {},
   "outputs": [],
   "source": []
  }
 ],
 "metadata": {
  "kernelspec": {
   "display_name": "Python 3",
   "language": "python",
   "name": "python3"
  },
  "language_info": {
   "codemirror_mode": {
    "name": "ipython",
    "version": 3
   },
   "file_extension": ".py",
   "mimetype": "text/x-python",
   "name": "python",
   "nbconvert_exporter": "python",
   "pygments_lexer": "ipython3",
   "version": "3.6.3"
  }
 },
 "nbformat": 4,
 "nbformat_minor": 2
}
